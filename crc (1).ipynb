{
 "cells": [
  {
   "cell_type": "code",
   "execution_count": 9,
   "metadata": {},
   "outputs": [],
   "source": [
    "def xor(a,b):\n",
    "    if(a==b):\n",
    "        return '0'\n",
    "    else:\n",
    "        return '1'\n",
    "def b_division(target,divisor):\n",
    "    zero='0'*len(divisor)\n",
    "    pick=len(divisor)\n",
    "    #append n-1 zeroes\n",
    "    \n",
    "    while target!=\"\":\n",
    "        temp=target[:pick]\n",
    "        target=target[pick:]\n",
    "        build=\"\"\n",
    "        if(temp[0]=='1'):\n",
    "            d=divisor\n",
    "        else:\n",
    "            d=zero\n",
    "        for i in range(len(d)):\n",
    "            build=build+xor(temp[i],d[i])\n",
    "        if(target==\"\"):\n",
    "            return build[1:]\n",
    "        target=build[1:]+target\n"
   ]
  },
  {
   "cell_type": "code",
   "execution_count": 10,
   "metadata": {},
   "outputs": [
    {
     "name": "stdout",
     "output_type": "stream",
     "text": [
      "Enter data:\n",
      "Enter divisor:\n",
      "100100001\n"
     ]
    }
   ],
   "source": [
    "print(\"Enter data:\")\n",
    "s1=input()\n",
    "print(\"Enter divisor:\")\n",
    "s2=input()\n",
    "s3=s1+b_division(s1+\"0\"*(len(s2)-1),s2)\n",
    "print(s3)"
   ]
  },
  {
   "cell_type": "code",
   "execution_count": 13,
   "metadata": {},
   "outputs": [
    {
     "name": "stdout",
     "output_type": "stream",
     "text": [
      "000\n",
      "ok\n"
     ]
    }
   ],
   "source": [
    "print(b_division(s3,s2))\n",
    "remainder=int(b_division(s3,s2))\n",
    "if(remainder==0):\n",
    "    print(\"ok\")\n",
    "else:\n",
    "    print(\"wrong\")"
   ]
  },
  {
   "cell_type": "code",
   "execution_count": null,
   "metadata": {},
   "outputs": [],
   "source": []
  }
 ],
 "metadata": {
  "kernelspec": {
   "display_name": "base",
   "language": "python",
   "name": "python3"
  },
  "language_info": {
   "codemirror_mode": {
    "name": "ipython",
    "version": 3
   },
   "file_extension": ".py",
   "mimetype": "text/x-python",
   "name": "python",
   "nbconvert_exporter": "python",
   "pygments_lexer": "ipython3",
   "version": "3.11.5"
  }
 },
 "nbformat": 4,
 "nbformat_minor": 2
}
